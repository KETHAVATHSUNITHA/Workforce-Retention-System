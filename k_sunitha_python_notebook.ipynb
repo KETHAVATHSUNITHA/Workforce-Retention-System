{
  "nbformat": 4,
  "nbformat_minor": 0,
  "metadata": {
    "colab": {
      "provenance": [],
      "authorship_tag": "ABX9TyPZH8EOB0FPDSYdkN9nMCJI",
      "include_colab_link": true
    },
    "kernelspec": {
      "name": "python3",
      "display_name": "Python 3"
    },
    "language_info": {
      "name": "python"
    }
  },
  "cells": [
    {
      "cell_type": "markdown",
      "metadata": {
        "id": "view-in-github",
        "colab_type": "text"
      },
      "source": [
        "<a href=\"https://colab.research.google.com/github/KETHAVATHSUNITHA/Workforce-Retention-System/blob/main/k_sunitha_python_notebook.ipynb\" target=\"_parent\"><img src=\"https://colab.research.google.com/assets/colab-badge.svg\" alt=\"Open In Colab\"/></a>"
      ]
    },
    {
      "cell_type": "markdown",
      "source": [
        "# Module 1----> Python Basics\n"
      ],
      "metadata": {
        "id": "crL3HuRxBIP8"
      }
    },
    {
      "cell_type": "markdown",
      "source": [
        "# 1.Genral purpose programming language\n",
        "# 2.High-Level Programming language\n",
        "# 3.Dynamically typed programming language\n",
        "# 4.Object oriented programming language.--> OOP’s\n",
        "# 5. interpreted programming language\n",
        "\n"
      ],
      "metadata": {
        "id": "JPIss8-otz6C"
      }
    },
    {
      "cell_type": "code",
      "source": [
        "\"\"\"Q)what is a General purpose programming language?\n",
        "A)apart from data management & AI development\n",
        "we can use Python for general usage:- ISRO scientists use python for physics\n",
        "calculation, tracking the stocks, image processing..etc\"\"\"\n"
      ],
      "metadata": {
        "id": "oF0NnxTxBPcP",
        "colab": {
          "base_uri": "https://localhost:8080/",
          "height": 52
        },
        "outputId": "28621de8-1b64-4245-f1e5-d8e485063f3b"
      },
      "execution_count": 3,
      "outputs": [
        {
          "output_type": "execute_result",
          "data": {
            "text/plain": [
              "'Q)what is a General purpose programming language?\\nA)apart from data management & AI development\\nwe can use Python for general usage:- ISRO scientists use python for physics\\ncalculation, tracking the stocks, image processing..etc'"
            ],
            "application/vnd.google.colaboratory.intrinsic+json": {
              "type": "string"
            }
          },
          "metadata": {},
          "execution_count": 3
        }
      ]
    },
    {
      "cell_type": "code",
      "execution_count": 5,
      "metadata": {
        "id": "E5Bl2LUC_FlX",
        "colab": {
          "base_uri": "https://localhost:8080/",
          "height": 87
        },
        "outputId": "ee8a6179-ebf3-4fbd-f820-fefbbab195ab"
      },
      "outputs": [
        {
          "output_type": "execute_result",
          "data": {
            "text/plain": [
              "\"Q)How many levels of programming languages are there?\\na)1.High-Level Programming Language:-\\n --> is also known as a “Human-Friendly Programming language”\\n --> ***Here each line of code is not changing into “Binary form”. so it is like a\\nEnglish language***\\n for ex: - x = “Hello world!”\\n --> Low - lines of codes\\n --> java, python\\n \\n 2. Low-level programming language:-\\n --> also known as “machine-friendly programming language”\\n--> Here each line of codes is changing into “Binary form” ex:- 0's and 1's\\n--> more line of codes\\n--> ex:- C, C++...etc\""
            ],
            "application/vnd.google.colaboratory.intrinsic+json": {
              "type": "string"
            }
          },
          "metadata": {},
          "execution_count": 5
        }
      ],
      "source": [
        "\"\"\"Q)How many levels of programming languages are there?\n",
        "a)1.High-Level Programming Language:-\n",
        " --> is also known as a “Human-Friendly Programming language”\n",
        " --> ***Here each line of code is not changing into “Binary form”. so it is like a\n",
        "English language***\n",
        " for ex: - x = “Hello world!”\n",
        " --> Low - lines of codes\n",
        " --> java, python\n",
        "\n",
        " 2. Low-level programming language:-\n",
        " --> also known as “machine-friendly programming language”\n",
        "--> Here each line of codes is changing into “Binary form” ex:- 0's and 1's\n",
        "--> more line of codes\n",
        "--> ex:- C, C++...etc\"\"\""
      ]
    },
    {
      "cell_type": "code",
      "source": [
        "\"\"\"q)How many types of programming languages are there?\n",
        "A_) there are 2 types\n",
        "1.statistically typed programming language\n",
        "--> We need to define the data type for the variables in the statistically typed\n",
        "programming language\n",
        "--> for example:- str[x]= “hello world!\n",
        "\n",
        "1.dynamically typed programming language:-\n",
        "-->We do not need to define the data type for the variables in the dynamically\n",
        "typed programming language.\n",
        "--> ex:- x = “hello world”\n",
        "-->so Python can update or read the data type automatically by itself\"\"\""
      ],
      "metadata": {
        "colab": {
          "base_uri": "https://localhost:8080/",
          "height": 87
        },
        "id": "MCwL4Ecd_Jff",
        "outputId": "849d3638-fbed-4e79-bb62-97fe26ec5c32"
      },
      "execution_count": 8,
      "outputs": [
        {
          "output_type": "execute_result",
          "data": {
            "text/plain": [
              "'q)How many types of programming languages are there?\\nA_) there are 2 types\\n1.statistically typed programming language\\n--> We need to define the data type for the variables in the statistically typed\\nprogramming language\\n--> for example:- str[x]= “hello world! \\n\\n1.dynamically typed programming language:-\\n-->We do not need to define the data type for the variables in the dynamically\\ntyped programming language.\\n--> ex:- x = “hello world”\\n-->so Python can update or read the data type automatically by itself'"
            ],
            "application/vnd.google.colaboratory.intrinsic+json": {
              "type": "string"
            }
          },
          "metadata": {},
          "execution_count": 8
        }
      ]
    },
    {
      "cell_type": "code",
      "source": [
        "\"\"\" what is Object-oriented programming language? or how can you define an object?\n",
        "A. The object can be defined 3 ways\n",
        "1. object\n",
        "2. identity: hello world\n",
        "3. python language: properties/ Attribute\n",
        "12\n",
        "“” genral,high,dynamicall\n",
        "Methods of interaction\n",
        " \"\"\""
      ],
      "metadata": {
        "colab": {
          "base_uri": "https://localhost:8080/",
          "height": 52
        },
        "id": "3jeZJo_fAiOc",
        "outputId": "8a245b47-c58d-40ac-d21e-7565b785f3d0"
      },
      "execution_count": 12,
      "outputs": [
        {
          "output_type": "execute_result",
          "data": {
            "text/plain": [
              "' what is Object-oriented programming language? or how can you define an object?\\nA. The object can be defined 3 ways\\n1. object\\n2. identity: hello world\\n3. python language: properties/ Attribute\\n12\\n“” genral,high,dynamicall\\nMethods of interaction\\n '"
            ],
            "application/vnd.google.colaboratory.intrinsic+json": {
              "type": "string"
            }
          },
          "metadata": {},
          "execution_count": 12
        }
      ]
    },
    {
      "cell_type": "code",
      "source": [
        "\"\"\" IDE’s:--> Integreated development envirnonment ex:- Google colab\n",
        "pycharm\n",
        "jupyter notebook vs\n",
        "Class <strings>\n",
        "X = “Hello World!”\n",
        "programming = python\n",
        "when you are executing a program the each line of code is having its own , identity, properties, methods of interactions based on this 3 ways, This object belongs to a category which is known as “Class\" \"\"\""
      ],
      "metadata": {
        "colab": {
          "base_uri": "https://localhost:8080/",
          "height": 70
        },
        "id": "AuMnBlGwBnjK",
        "outputId": "5007a6b4-77cb-427c-d8d5-cadda650c643"
      },
      "execution_count": 13,
      "outputs": [
        {
          "output_type": "execute_result",
          "data": {
            "text/plain": [
              "' IDE’s:--> Integreated development envirnonment ex:- Google colab\\npycharm\\njupyter notebook vs\\nClass <strings>\\nX = “Hello World!”\\nprogramming = python\\nwhen you are executing a program the each line of code is having its own , identity, properties, methods of interactions based on this 3 ways, This object belongs to a category which is known as “Class\" '"
            ],
            "application/vnd.google.colaboratory.intrinsic+json": {
              "type": "string"
            }
          },
          "metadata": {},
          "execution_count": 13
        }
      ]
    },
    {
      "cell_type": "code",
      "source": [
        "\"\"\" what is an IDE’s?\n",
        "Q)code compillers, code executors, interpretors, result given \"\"\""
      ],
      "metadata": {
        "colab": {
          "base_uri": "https://localhost:8080/",
          "height": 35
        },
        "id": "Ir4ndO8BAt7g",
        "outputId": "356ffe05-0069-4504-a3ff-bd03f79000ec"
      },
      "execution_count": 10,
      "outputs": [
        {
          "output_type": "execute_result",
          "data": {
            "text/plain": [
              "' what is an IDE’s? Q)code compillers, code executors, interpretors, result given '"
            ],
            "application/vnd.google.colaboratory.intrinsic+json": {
              "type": "string"
            }
          },
          "metadata": {},
          "execution_count": 10
        }
      ]
    },
    {
      "cell_type": "code",
      "source": [
        "\"\"\" what is interpreted programming language?\n",
        "A)The python can execute the code line by line and it takes most recent values as updated values x = 10\n",
        "y = 5\n",
        "x = 20\n",
        "y = 40\n",
        "print(x+y)\n",
        "\"\"\""
      ],
      "metadata": {
        "colab": {
          "base_uri": "https://localhost:8080/",
          "height": 52
        },
        "id": "UHJtFZnYA30H",
        "outputId": "8db30f4c-5417-4a49-cf40-323713d30511"
      },
      "execution_count": 11,
      "outputs": [
        {
          "output_type": "execute_result",
          "data": {
            "text/plain": [
              "' what is interpreted programming language?\\nA)The python can execute the code line by line and it takes most recent values as updated values x = 10\\ny = 5\\nx = 20\\ny = 40\\nprint(x+y)\\n'"
            ],
            "application/vnd.google.colaboratory.intrinsic+json": {
              "type": "string"
            }
          },
          "metadata": {},
          "execution_count": 11
        }
      ]
    },
    {
      "cell_type": "code",
      "source": [
        "\"\"\"                Comments\n",
        "\n",
        " There are 2 types of comments:-\n",
        "1.single line comment---> #\n",
        "2.multiline comment ---> “““ ”””(double triple quotes) or ‘‘‘ ’’’ (single triple quots) why commenting important ?\n",
        "#for better understanding purpose we are using the comments \"\""
      ],
      "metadata": {
        "id": "JhpOmW5NA9B5"
      },
      "execution_count": null,
      "outputs": []
    },
    {
      "cell_type": "markdown",
      "source": [
        "# *Numerical Data Types*\n",
        "\n",
        "\n",
        "\n",
        "\n",
        "\n"
      ],
      "metadata": {
        "id": "D5hw9G_iDpPB"
      }
    },
    {
      "cell_type": "code",
      "source": [
        "#what are all numerical data types in python?\n",
        "#There are 3 types numerical dtypes\n",
        "#1.Integer--->represented with \"int\"\n",
        "#what is integer?\n",
        "#A whole number either +ve or -ve without decimal numbers is known as integer\n",
        "print(100)\n",
        "print(10)\n",
        "print(5)\n",
        "#print the datatype of above elements\n",
        "# use \"type()\" --> it is a inbuilt function used to find the data type\n",
        "print(type(100))\n",
        "print(type(10))\n",
        "print(type(5))\n",
        "print(type(-5))\n",
        "print(type(0))\n",
        "#python is an object oriented programming language"
      ],
      "metadata": {
        "colab": {
          "base_uri": "https://localhost:8080/"
        },
        "id": "UJW4BCmZDn9V",
        "outputId": "f6737edb-e9fc-4591-bd85-fbd9a3e1c5da"
      },
      "execution_count": 14,
      "outputs": [
        {
          "output_type": "stream",
          "name": "stdout",
          "text": [
            "100\n",
            "10\n",
            "5\n",
            "<class 'int'>\n",
            "<class 'int'>\n",
            "<class 'int'>\n",
            "<class 'int'>\n",
            "<class 'int'>\n"
          ]
        }
      ]
    },
    {
      "cell_type": "code",
      "source": [
        "#2.Float----> \"float\"\n",
        "#A whole number either +ve or -ve with decimal point is known as float\n",
        "print(-15.5)\n",
        "print(10.4)\n",
        "#find the dtype\n",
        "print(type(15.5))\n",
        "print(type(10.4))\n",
        "print(type(0.0))\n",
        "print(type(2.0))\n",
        "print(type(.89))"
      ],
      "metadata": {
        "colab": {
          "base_uri": "https://localhost:8080/"
        },
        "id": "hHGpppY9ERbJ",
        "outputId": "11c90b67-0cdb-4299-b235-ea18ef2d87e8"
      },
      "execution_count": 15,
      "outputs": [
        {
          "output_type": "stream",
          "name": "stdout",
          "text": [
            "-15.5\n",
            "10.4\n",
            "<class 'float'>\n",
            "<class 'float'>\n",
            "<class 'float'>\n",
            "<class 'float'>\n",
            "<class 'float'>\n"
          ]
        }
      ]
    },
    {
      "cell_type": "code",
      "source": [
        "#3.complex number---> \"complex\"\n",
        "#A Real number with its imaginary part is known as complex number data\n",
        "#Note:- real number must have the imaginary part as \"j\", hence j is known as \"iota\"\n",
        "#the value of iota is root -1\n",
        "print(2+5j)\n",
        "print(4+2j)\n",
        "#find the dtype for above\n",
        "print(type(2+5j))\n",
        "print(type(4+2j))\n",
        "print(type(-1-4j))\n",
        "print(type(4j))\n",
        "#print(2+5i)\n",
        "print(type(1+j)) #Note:- imaginary part \"j\" has to be with a any number otherwise it rises an error\n",
        "print(type(0+0j))\n"
      ],
      "metadata": {
        "colab": {
          "base_uri": "https://localhost:8080/",
          "height": 297
        },
        "id": "CEYM9cfNEobi",
        "outputId": "e77abf36-2b8f-4c1c-cf31-1791380c57b2"
      },
      "execution_count": 17,
      "outputs": [
        {
          "output_type": "stream",
          "name": "stdout",
          "text": [
            "(2+5j)\n",
            "(4+2j)\n",
            "<class 'complex'>\n",
            "<class 'complex'>\n",
            "<class 'complex'>\n",
            "<class 'complex'>\n"
          ]
        },
        {
          "output_type": "error",
          "ename": "NameError",
          "evalue": "name 'j' is not defined",
          "traceback": [
            "\u001b[0;31m---------------------------------------------------------------------------\u001b[0m",
            "\u001b[0;31mNameError\u001b[0m                                 Traceback (most recent call last)",
            "\u001b[0;32m<ipython-input-17-eae14b626956>\u001b[0m in \u001b[0;36m<cell line: 13>\u001b[0;34m()\u001b[0m\n\u001b[1;32m     11\u001b[0m \u001b[0mprint\u001b[0m\u001b[0;34m(\u001b[0m\u001b[0mtype\u001b[0m\u001b[0;34m(\u001b[0m\u001b[0;36m4j\u001b[0m\u001b[0;34m)\u001b[0m\u001b[0;34m)\u001b[0m\u001b[0;34m\u001b[0m\u001b[0;34m\u001b[0m\u001b[0m\n\u001b[1;32m     12\u001b[0m \u001b[0;31m#print(2+5i)\u001b[0m\u001b[0;34m\u001b[0m\u001b[0;34m\u001b[0m\u001b[0m\n\u001b[0;32m---> 13\u001b[0;31m \u001b[0mprint\u001b[0m\u001b[0;34m(\u001b[0m\u001b[0mtype\u001b[0m\u001b[0;34m(\u001b[0m\u001b[0;36m1\u001b[0m\u001b[0;34m+\u001b[0m\u001b[0mj\u001b[0m\u001b[0;34m)\u001b[0m\u001b[0;34m)\u001b[0m \u001b[0;31m#Note:- imaginary part \"j\" has to be with a any number otherwise it rises an error\u001b[0m\u001b[0;34m\u001b[0m\u001b[0;34m\u001b[0m\u001b[0m\n\u001b[0m\u001b[1;32m     14\u001b[0m \u001b[0mprint\u001b[0m\u001b[0;34m(\u001b[0m\u001b[0mtype\u001b[0m\u001b[0;34m(\u001b[0m\u001b[0;36m0\u001b[0m\u001b[0;34m+\u001b[0m\u001b[0;36m0j\u001b[0m\u001b[0;34m)\u001b[0m\u001b[0;34m)\u001b[0m\u001b[0;34m\u001b[0m\u001b[0;34m\u001b[0m\u001b[0m\n",
            "\u001b[0;31mNameError\u001b[0m: name 'j' is not defined"
          ]
        }
      ]
    },
    {
      "cell_type": "markdown",
      "source": [
        "# **Arthmatic Operators**"
      ],
      "metadata": {
        "id": "-DyAuH02FS9f"
      }
    },
    {
      "cell_type": "code",
      "source": [
        "#what are arthmatic operators do we have in python?\n",
        "#there are 7 arthamatic operators\n",
        "#1. addition--> +\n",
        "#find the result of 10 + 5\n",
        "print(10 + 5)\n",
        "print(type(10 + 5))\n",
        "#2. sunstaraction--->  -\n",
        "print(10 - 5)\n",
        "print(type(10 - 5))\n",
        "#3 division ---> /\n",
        "print(10 / 5)\n",
        "print(type(10/5))\n",
        "#4 multiplication ---> *\n",
        "print(10 * 5)\n",
        "print(type(10 * 5))"
      ],
      "metadata": {
        "colab": {
          "base_uri": "https://localhost:8080/"
        },
        "id": "EhsR12tWFaXl",
        "outputId": "d6cfbbb4-ac9d-4de4-a926-90bb248b5f55"
      },
      "execution_count": 18,
      "outputs": [
        {
          "output_type": "stream",
          "name": "stdout",
          "text": [
            "15\n",
            "<class 'int'>\n",
            "5\n",
            "<class 'int'>\n",
            "2.0\n",
            "<class 'float'>\n",
            "50\n",
            "<class 'int'>\n"
          ]
        }
      ]
    },
    {
      "cell_type": "code",
      "source": [
        "#why default dtype for division is float?\n",
        "\"\"\"some time in division you may get decimal numbers in coeffiecient, where the data type is change\n",
        "float sometime we may get coficient as int to avoid this confusion and to make python is an high-\n",
        "level programming language the founder make the dtype as default for divison operations\"\"\""
      ],
      "metadata": {
        "colab": {
          "base_uri": "https://localhost:8080/",
          "height": 52
        },
        "id": "BjxVvRcqF-VO",
        "outputId": "784014eb-0de8-4fac-8871-67eae37f4d66"
      },
      "execution_count": 19,
      "outputs": [
        {
          "output_type": "execute_result",
          "data": {
            "text/plain": [
              "'some time in division you may get decimal numbers in coeffiecient, where the data type is change\\nfloat sometime we may get coficient as int to avoid this confusion and to make python is an high-\\nlevel programming language the founder make the dtype as default for divison operations'"
            ],
            "application/vnd.google.colaboratory.intrinsic+json": {
              "type": "string"
            }
          },
          "metadata": {},
          "execution_count": 19
        }
      ]
    },
    {
      "cell_type": "code",
      "source": [
        "#5.Moulus--> %\n",
        "#it is defined as remainder of the divison\n",
        "print(10 % 3)\n",
        "print(10 % 5)\n",
        "#find the dtype\n",
        "print(type(10 % 3))\n",
        "print(type(10 % 5))\n",
        "#why we are using this modulus?\n",
        "#it is used find prime number, even and odd number\n",
        "#12346\n",
        "#if the number is divisble with 2 and give the remainder as 0 it is even number\n",
        "print(12346 % 2)"
      ],
      "metadata": {
        "colab": {
          "base_uri": "https://localhost:8080/"
        },
        "id": "VvLCXmovGBQo",
        "outputId": "21b946e3-f4e3-4d58-bf27-503bb6fb4f30"
      },
      "execution_count": 20,
      "outputs": [
        {
          "output_type": "stream",
          "name": "stdout",
          "text": [
            "1\n",
            "0\n",
            "<class 'int'>\n",
            "<class 'int'>\n",
            "0\n"
          ]
        }
      ]
    },
    {
      "cell_type": "code",
      "source": [
        "#6.exponential---> **\n",
        "#it is defined as to the poweroff\n",
        "print(10 ** 5)\n",
        "print(2 ** 3)\n",
        "#find dtype\n",
        "print(type(10 ** 5))\n",
        "print(type(2 ** 3))\n"
      ],
      "metadata": {
        "colab": {
          "base_uri": "https://localhost:8080/"
        },
        "id": "suWpkK_bGGpL",
        "outputId": "767e039e-f0a6-4633-f08d-ed2e539b3755"
      },
      "execution_count": 21,
      "outputs": [
        {
          "output_type": "stream",
          "name": "stdout",
          "text": [
            "100000\n",
            "8\n",
            "<class 'int'>\n",
            "<class 'int'>\n"
          ]
        }
      ]
    },
    {
      "cell_type": "code",
      "source": [
        "#Floor Division--> //\n",
        "#it ignores the values after the decimal point in cofficient\n",
        "print(10 / 3)\n",
        "print(10 // 3)\n",
        "#The value before the decimal point is known as floor value or base value\n",
        "print(type(10 // 3))\n",
        "print(15//2)"
      ],
      "metadata": {
        "colab": {
          "base_uri": "https://localhost:8080/"
        },
        "id": "yS5HXd8oGNNY",
        "outputId": "86db7a61-2432-4b94-ac79-1f3a8db1a1ff"
      },
      "execution_count": 22,
      "outputs": [
        {
          "output_type": "stream",
          "name": "stdout",
          "text": [
            "3.3333333333333335\n",
            "3\n",
            "<class 'int'>\n",
            "7\n"
          ]
        }
      ]
    }
  ]
}