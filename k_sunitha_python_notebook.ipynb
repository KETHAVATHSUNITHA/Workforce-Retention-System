{
  "nbformat": 4,
  "nbformat_minor": 0,
  "metadata": {
    "colab": {
      "provenance": [],
      "authorship_tag": "ABX9TyMcQrmXhpZY0NBXUwiq30wC",
      "include_colab_link": true
    },
    "kernelspec": {
      "name": "python3",
      "display_name": "Python 3"
    },
    "language_info": {
      "name": "python"
    }
  },
  "cells": [
    {
      "cell_type": "markdown",
      "metadata": {
        "id": "view-in-github",
        "colab_type": "text"
      },
      "source": [
        "<a href=\"https://colab.research.google.com/github/KETHAVATHSUNITHA/Workforce-Retention-System/blob/main/k_sunitha_python_notebook.ipynb\" target=\"_parent\"><img src=\"https://colab.research.google.com/assets/colab-badge.svg\" alt=\"Open In Colab\"/></a>"
      ]
    },
    {
      "cell_type": "markdown",
      "source": [
        "# Module 1----> Python Basics\n"
      ],
      "metadata": {
        "id": "crL3HuRxBIP8"
      }
    },
    {
      "cell_type": "markdown",
      "source": [
        "# 1.Genral purpose programming language\n",
        "# 2.High-Level Programming language\n",
        "# 3.Dynamically typed programming language\n",
        "# 4.Object oriented programming language.--> OOP’s\n",
        "# 5. interpreted programming language\n",
        "\n"
      ],
      "metadata": {
        "id": "JPIss8-otz6C"
      }
    },
    {
      "cell_type": "code",
      "source": [
        "\"\"\"Q)what is a General purpose programming language?\n",
        "A)apart from data management & AI development\n",
        "we can use Python for general usage:- ISRO scientists use python for physics\n",
        "calculation, tracking the stocks, image processing..etc\"\"\"\n"
      ],
      "metadata": {
        "id": "oF0NnxTxBPcP",
        "colab": {
          "base_uri": "https://localhost:8080/",
          "height": 52
        },
        "outputId": "28621de8-1b64-4245-f1e5-d8e485063f3b"
      },
      "execution_count": 3,
      "outputs": [
        {
          "output_type": "execute_result",
          "data": {
            "text/plain": [
              "'Q)what is a General purpose programming language?\\nA)apart from data management & AI development\\nwe can use Python for general usage:- ISRO scientists use python for physics\\ncalculation, tracking the stocks, image processing..etc'"
            ],
            "application/vnd.google.colaboratory.intrinsic+json": {
              "type": "string"
            }
          },
          "metadata": {},
          "execution_count": 3
        }
      ]
    },
    {
      "cell_type": "code",
      "execution_count": 5,
      "metadata": {
        "id": "E5Bl2LUC_FlX",
        "colab": {
          "base_uri": "https://localhost:8080/",
          "height": 87
        },
        "outputId": "ee8a6179-ebf3-4fbd-f820-fefbbab195ab"
      },
      "outputs": [
        {
          "output_type": "execute_result",
          "data": {
            "text/plain": [
              "\"Q)How many levels of programming languages are there?\\na)1.High-Level Programming Language:-\\n --> is also known as a “Human-Friendly Programming language”\\n --> ***Here each line of code is not changing into “Binary form”. so it is like a\\nEnglish language***\\n for ex: - x = “Hello world!”\\n --> Low - lines of codes\\n --> java, python\\n \\n 2. Low-level programming language:-\\n --> also known as “machine-friendly programming language”\\n--> Here each line of codes is changing into “Binary form” ex:- 0's and 1's\\n--> more line of codes\\n--> ex:- C, C++...etc\""
            ],
            "application/vnd.google.colaboratory.intrinsic+json": {
              "type": "string"
            }
          },
          "metadata": {},
          "execution_count": 5
        }
      ],
      "source": [
        "\"\"\"Q)How many levels of programming languages are there?\n",
        "a)1.High-Level Programming Language:-\n",
        " --> is also known as a “Human-Friendly Programming language”\n",
        " --> ***Here each line of code is not changing into “Binary form”. so it is like a\n",
        "English language***\n",
        " for ex: - x = “Hello world!”\n",
        " --> Low - lines of codes\n",
        " --> java, python\n",
        "\n",
        " 2. Low-level programming language:-\n",
        " --> also known as “machine-friendly programming language”\n",
        "--> Here each line of codes is changing into “Binary form” ex:- 0's and 1's\n",
        "--> more line of codes\n",
        "--> ex:- C, C++...etc\"\"\""
      ]
    },
    {
      "cell_type": "code",
      "source": [
        "\"\"\"q)How many types of programming languages are there?\n",
        "A_) there are 2 types\n",
        "1.statistically typed programming language\n",
        "--> We need to define the data type for the variables in the statistically typed\n",
        "programming language\n",
        "--> for example:- str[x]= “hello world!\n",
        "\n",
        "1.dynamically typed programming language:-\n",
        "-->We do not need to define the data type for the variables in the dynamically\n",
        "typed programming language.\n",
        "--> ex:- x = “hello world”\n",
        "-->so Python can update or read the data type automatically by itself\"\"\""
      ],
      "metadata": {
        "colab": {
          "base_uri": "https://localhost:8080/",
          "height": 87
        },
        "id": "MCwL4Ecd_Jff",
        "outputId": "849d3638-fbed-4e79-bb62-97fe26ec5c32"
      },
      "execution_count": 8,
      "outputs": [
        {
          "output_type": "execute_result",
          "data": {
            "text/plain": [
              "'q)How many types of programming languages are there?\\nA_) there are 2 types\\n1.statistically typed programming language\\n--> We need to define the data type for the variables in the statistically typed\\nprogramming language\\n--> for example:- str[x]= “hello world! \\n\\n1.dynamically typed programming language:-\\n-->We do not need to define the data type for the variables in the dynamically\\ntyped programming language.\\n--> ex:- x = “hello world”\\n-->so Python can update or read the data type automatically by itself'"
            ],
            "application/vnd.google.colaboratory.intrinsic+json": {
              "type": "string"
            }
          },
          "metadata": {},
          "execution_count": 8
        }
      ]
    },
    {
      "cell_type": "code",
      "source": [
        "\"\"\" what is Object-oriented programming language? or how can you define an object?\n",
        "A. The object can be defined 3 ways\n",
        "1. object\n",
        "2. identity: hello world\n",
        "3. python language: properties/ Attribute\n",
        "12\n",
        "“” genral,high,dynamicall\n",
        "Methods of interaction\n",
        " \"\"\""
      ],
      "metadata": {
        "colab": {
          "base_uri": "https://localhost:8080/",
          "height": 52
        },
        "id": "3jeZJo_fAiOc",
        "outputId": "8a245b47-c58d-40ac-d21e-7565b785f3d0"
      },
      "execution_count": 12,
      "outputs": [
        {
          "output_type": "execute_result",
          "data": {
            "text/plain": [
              "' what is Object-oriented programming language? or how can you define an object?\\nA. The object can be defined 3 ways\\n1. object\\n2. identity: hello world\\n3. python language: properties/ Attribute\\n12\\n“” genral,high,dynamicall\\nMethods of interaction\\n '"
            ],
            "application/vnd.google.colaboratory.intrinsic+json": {
              "type": "string"
            }
          },
          "metadata": {},
          "execution_count": 12
        }
      ]
    },
    {
      "cell_type": "code",
      "source": [
        "\"\"\" IDE’s:--> Integreated development envirnonment ex:- Google colab\n",
        "pycharm\n",
        "jupyter notebook vs\n",
        "Class <strings>\n",
        "X = “Hello World!”\n",
        "programming = python\n",
        "when you are executing a program the each line of code is having its own , identity, properties, methods of interactions based on this 3 ways, This object belongs to a category which is known as “Class\" \"\"\""
      ],
      "metadata": {
        "colab": {
          "base_uri": "https://localhost:8080/",
          "height": 70
        },
        "id": "AuMnBlGwBnjK",
        "outputId": "5007a6b4-77cb-427c-d8d5-cadda650c643"
      },
      "execution_count": 13,
      "outputs": [
        {
          "output_type": "execute_result",
          "data": {
            "text/plain": [
              "' IDE’s:--> Integreated development envirnonment ex:- Google colab\\npycharm\\njupyter notebook vs\\nClass <strings>\\nX = “Hello World!”\\nprogramming = python\\nwhen you are executing a program the each line of code is having its own , identity, properties, methods of interactions based on this 3 ways, This object belongs to a category which is known as “Class\" '"
            ],
            "application/vnd.google.colaboratory.intrinsic+json": {
              "type": "string"
            }
          },
          "metadata": {},
          "execution_count": 13
        }
      ]
    },
    {
      "cell_type": "code",
      "source": [
        "\"\"\" what is an IDE’s?\n",
        "Q)code compillers, code executors, interpretors, result given \"\"\""
      ],
      "metadata": {
        "colab": {
          "base_uri": "https://localhost:8080/",
          "height": 35
        },
        "id": "Ir4ndO8BAt7g",
        "outputId": "356ffe05-0069-4504-a3ff-bd03f79000ec"
      },
      "execution_count": 10,
      "outputs": [
        {
          "output_type": "execute_result",
          "data": {
            "text/plain": [
              "' what is an IDE’s? Q)code compillers, code executors, interpretors, result given '"
            ],
            "application/vnd.google.colaboratory.intrinsic+json": {
              "type": "string"
            }
          },
          "metadata": {},
          "execution_count": 10
        }
      ]
    },
    {
      "cell_type": "code",
      "source": [
        "\"\"\" what is interpreted programming language?\n",
        "A)The python can execute the code line by line and it takes most recent values as updated values x = 10\n",
        "y = 5\n",
        "x = 20\n",
        "y = 40\n",
        "print(x+y)\n",
        "\"\"\""
      ],
      "metadata": {
        "colab": {
          "base_uri": "https://localhost:8080/",
          "height": 52
        },
        "id": "UHJtFZnYA30H",
        "outputId": "8db30f4c-5417-4a49-cf40-323713d30511"
      },
      "execution_count": 11,
      "outputs": [
        {
          "output_type": "execute_result",
          "data": {
            "text/plain": [
              "' what is interpreted programming language?\\nA)The python can execute the code line by line and it takes most recent values as updated values x = 10\\ny = 5\\nx = 20\\ny = 40\\nprint(x+y)\\n'"
            ],
            "application/vnd.google.colaboratory.intrinsic+json": {
              "type": "string"
            }
          },
          "metadata": {},
          "execution_count": 11
        }
      ]
    },
    {
      "cell_type": "code",
      "source": [
        "\"\"\"                Comments\n",
        "\n",
        " There are 2 types of comments:-\n",
        "1.single line comment---> #\n",
        "2.multiline comment ---> “““ ”””(double triple quotes) or ‘‘‘ ’’’ (single triple quots) why commenting important ?\n",
        "#for better understanding purpose we are using the comments \"\""
      ],
      "metadata": {
        "id": "JhpOmW5NA9B5"
      },
      "execution_count": null,
      "outputs": []
    }
  ]
}