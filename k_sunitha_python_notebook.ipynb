{
  "nbformat": 4,
  "nbformat_minor": 0,
  "metadata": {
    "colab": {
      "provenance": [],
      "authorship_tag": "ABX9TyMcdsZ4VZmcZMl7Bqr/PuK6",
      "include_colab_link": true
    },
    "kernelspec": {
      "name": "python3",
      "display_name": "Python 3"
    },
    "language_info": {
      "name": "python"
    }
  },
  "cells": [
    {
      "cell_type": "markdown",
      "metadata": {
        "id": "view-in-github",
        "colab_type": "text"
      },
      "source": [
        "<a href=\"https://colab.research.google.com/github/KETHAVATHSUNITHA/Workforce-Retention-System/blob/main/k_sunitha_python_notebook.ipynb\" target=\"_parent\"><img src=\"https://colab.research.google.com/assets/colab-badge.svg\" alt=\"Open In Colab\"/></a>"
      ]
    },
    {
      "cell_type": "markdown",
      "source": [
        "Module 1----> Python Basics\n"
      ],
      "metadata": {
        "id": "crL3HuRxBIP8"
      }
    },
    {
      "cell_type": "markdown",
      "source": [
        "\"\"\"1.Genral purpose programming language\n",
        "# 2.High-Level Programming language\n",
        "# 3.Dynamically typed programming language\n",
        "# 4.Object oriented programming language.--> OOP’s\n",
        "# 5. interpreted programming language\"\"\n",
        "\n"
      ],
      "metadata": {
        "id": "JPIss8-otz6C"
      }
    },
    {
      "cell_type": "code",
      "source": [],
      "metadata": {
        "id": "oF0NnxTxBPcP"
      },
      "execution_count": null,
      "outputs": []
    },
    {
      "cell_type": "code",
      "execution_count": null,
      "metadata": {
        "id": "E5Bl2LUC_FlX"
      },
      "outputs": [],
      "source": []
    },
    {
      "cell_type": "markdown",
      "source": [
        "module"
      ],
      "metadata": {
        "id": "84iPwsWlA0HH"
      }
    }
  ]
}