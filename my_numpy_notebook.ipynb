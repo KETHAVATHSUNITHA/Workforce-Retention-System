{
  "nbformat": 4,
  "nbformat_minor": 0,
  "metadata": {
    "colab": {
      "provenance": [],
      "authorship_tag": "ABX9TyMXfNMccJAyYX98Ptc3soYD",
      "include_colab_link": true
    },
    "kernelspec": {
      "name": "python3",
      "display_name": "Python 3"
    },
    "language_info": {
      "name": "python"
    }
  },
  "cells": [
    {
      "cell_type": "markdown",
      "metadata": {
        "id": "view-in-github",
        "colab_type": "text"
      },
      "source": [
        "<a href=\"https://colab.research.google.com/github/KETHAVATHSUNITHA/Workforce-Retention-System/blob/main/my_numpy_notebook.ipynb\" target=\"_parent\"><img src=\"https://colab.research.google.com/assets/colab-badge.svg\" alt=\"Open In Colab\"/></a>"
      ]
    },
    {
      "cell_type": "markdown",
      "source": [
        "#numpy\n"
      ],
      "metadata": {
        "id": "2uWIYzhpDcOk"
      }
    },
    {
      "cell_type": "code",
      "execution_count": null,
      "metadata": {
        "id": "K_tlseCGC6N3"
      },
      "outputs": [],
      "source": [
        "#what is numpy?\n",
        "#it is a core library for scientitive computing in python\n",
        "#the central object in numpy is  numpy arrey's\n",
        "#whta is numpy array?\n",
        "#it is high performance multodimentional objects which is decigned specifically performe on maths operatuons\n",
        "\n"
      ]
    },
    {
      "cell_type": "code",
      "source": [
        "#how many types of arrays ?\n",
        "#three types\n",
        "#1D array    :- axis 0(only rows)\n",
        "#2D array    :- axis0(rows) and axis 1 (col)   tabular\n",
        "#3D array    :- axis 0(rows) axis 1 (col) axis 2 (step) (rows,col=2)"
      ],
      "metadata": {
        "id": "EJ1SVaooEmmh"
      },
      "execution_count": null,
      "outputs": []
    },
    {
      "cell_type": "code",
      "source": [
        "#what are all different use cases and mathematical operation that can be acheved esaily with numpy\n",
        "\"\"\"1. Dot product / inner product\n",
        "   2. Matrix multiplication\n",
        "   3. element wise matrix product\n",
        "   4. solving the liner system\n",
        "   5. invsere\n",
        "   6. determinent\n",
        "   7. choose the random number(gussian / uniform distrubution)\n",
        "   8. statistics\"\"\""
      ],
      "metadata": {
        "id": "RzebaEKDGmnY"
      },
      "execution_count": null,
      "outputs": []
    },
    {
      "cell_type": "code",
      "source": [
        "#installation of numpy\n",
        "#use PIP --means python package manager\n",
        "! pip install numpy"
      ],
      "metadata": {
        "colab": {
          "base_uri": "https://localhost:8080/"
        },
        "id": "CxbhuA0QHzTm",
        "outputId": "88b33ab3-2578-40d1-bcec-91821516b310"
      },
      "execution_count": null,
      "outputs": [
        {
          "output_type": "stream",
          "name": "stdout",
          "text": [
            "Requirement already satisfied: numpy in /usr/local/lib/python3.10/dist-packages (1.26.4)\n"
          ]
        }
      ]
    },
    {
      "cell_type": "code",
      "source": [
        "import numpy as np"
      ],
      "metadata": {
        "id": "Y_kTSO4cJVAm"
      },
      "execution_count": null,
      "outputs": []
    },
    {
      "cell_type": "code",
      "source": [
        "#how can we check the version of numpy\n",
        "np.__version__"
      ],
      "metadata": {
        "colab": {
          "base_uri": "https://localhost:8080/",
          "height": 35
        },
        "id": "_ZagvcrOJd_b",
        "outputId": "7aeeac5f-5d2c-473c-90db-ee1726bcb5da"
      },
      "execution_count": null,
      "outputs": [
        {
          "output_type": "execute_result",
          "data": {
            "text/plain": [
              "'1.26.4'"
            ],
            "application/vnd.google.colaboratory.intrinsic+json": {
              "type": "string"
            }
          },
          "metadata": {},
          "execution_count": 4
        }
      ]
    },
    {
      "cell_type": "code",
      "source": [
        "#what is the difference between list and numpy array?\n",
        "\"\"\"Array:- array can take homogenous data\n",
        "           array's are faster than the list because these are immutable\n",
        "           array's are having fixed memory\"\"\""
      ],
      "metadata": {
        "id": "Ja-fKdYQJ7Jt"
      },
      "execution_count": null,
      "outputs": []
    },
    {
      "cell_type": "code",
      "source": [
        "#arrat's--> ordered , immutable also it allows the duplicates"
      ],
      "metadata": {
        "id": "N2rA5sDPKdq6"
      },
      "execution_count": null,
      "outputs": []
    },
    {
      "cell_type": "markdown",
      "source": [
        "** Central object in numpy is numpy array's"
      ],
      "metadata": {
        "id": "nYiQv-kbKr4W"
      }
    },
    {
      "cell_type": "code",
      "source": [
        "a = np.array([1,2,3,4,5])\n",
        "print(a)\n",
        "#how can we create an array?\n",
        "#array's are created from existing data(list , tuples , dictionary's)\n",
        "#inwant know the shap of the array\n",
        "a.shape\n",
        "#i want know the element data types in array's\n",
        "a.dtype\n",
        "#i want to know the dimensions of the array\n",
        "a.ndim\n",
        "#i want to know the total number of element in the array\n",
        "a.size\n",
        "# print(len(a)) ---> we can use the length() also\n",
        "#i want to know the size in bytes of each element\n",
        "a.itemsize"
      ],
      "metadata": {
        "colab": {
          "base_uri": "https://localhost:8080/"
        },
        "id": "19W7cTI5K3up",
        "outputId": "6aca533b-1293-4d61-c198-14a1af808c99"
      },
      "execution_count": null,
      "outputs": [
        {
          "output_type": "stream",
          "name": "stdout",
          "text": [
            "[1 2 3 4 5]\n"
          ]
        },
        {
          "output_type": "execute_result",
          "data": {
            "text/plain": [
              "8"
            ]
          },
          "metadata": {},
          "execution_count": 11
        }
      ]
    },
    {
      "cell_type": "code",
      "source": [
        "a= np.array([[1,2,3,4,5]])\n",
        "print(a)\n",
        "a.ndim"
      ],
      "metadata": {
        "colab": {
          "base_uri": "https://localhost:8080/"
        },
        "id": "bmjDzlFTM9LI",
        "outputId": "c0bb7960-b371-41a2-c927-fa001f3dd820"
      },
      "execution_count": null,
      "outputs": [
        {
          "output_type": "stream",
          "name": "stdout",
          "text": [
            "[[1 2 3 4 5]]\n"
          ]
        },
        {
          "output_type": "execute_result",
          "data": {
            "text/plain": [
              "2"
            ]
          },
          "metadata": {},
          "execution_count": 17
        }
      ]
    },
    {
      "cell_type": "code",
      "source": [
        "a = np.array([[[[1,2,3,4,5]]]])\n",
        "print(a)\n",
        "a.ndim"
      ],
      "metadata": {
        "colab": {
          "base_uri": "https://localhost:8080/"
        },
        "id": "e9913qCPNYGV",
        "outputId": "7a2b2cf1-c8a2-478d-f912-f904af24defc"
      },
      "execution_count": null,
      "outputs": [
        {
          "output_type": "stream",
          "name": "stdout",
          "text": [
            "[[[[1 2 3 4 5]]]]\n"
          ]
        },
        {
          "output_type": "execute_result",
          "data": {
            "text/plain": [
              "4"
            ]
          },
          "metadata": {},
          "execution_count": 16
        }
      ]
    },
    {
      "cell_type": "markdown",
      "source": [
        "#essential methods in NP"
      ],
      "metadata": {
        "id": "yBHuQtVwNl90"
      }
    },
    {
      "cell_type": "code",
      "source": [
        "#access and change the element in the array\n",
        "b = np.array([1,2,3])\n",
        "print(b[1])\n",
        "print(b[::-1])"
      ],
      "metadata": {
        "colab": {
          "base_uri": "https://localhost:8080/"
        },
        "id": "1V_ngBbrNpkO",
        "outputId": "a034a1ba-6feb-40c4-a388-3f5edcd11803"
      },
      "execution_count": null,
      "outputs": [
        {
          "output_type": "stream",
          "name": "stdout",
          "text": [
            "2\n",
            "[3 2 1]\n"
          ]
        }
      ]
    },
    {
      "cell_type": "code",
      "source": [
        "#by using index position number we can replace the items from array\n",
        "b[0] = 5\n",
        "print(b)"
      ],
      "metadata": {
        "colab": {
          "base_uri": "https://localhost:8080/"
        },
        "id": "ctZ5wA49OEds",
        "outputId": "cd82a9a4-312f-462f-e426-4217ed767089"
      },
      "execution_count": null,
      "outputs": [
        {
          "output_type": "stream",
          "name": "stdout",
          "text": [
            "[5 2 3]\n"
          ]
        }
      ]
    },
    {
      "cell_type": "markdown",
      "source": [
        "#element wise math operation"
      ],
      "metadata": {
        "id": "hEvczX2bOTz2"
      }
    },
    {
      "cell_type": "code",
      "source": [
        "c = np.array([2,0,2])\n",
        "print(b+c)\n",
        "print(b-c)\n",
        "print(b*c)\n",
        "print(b/c)\n",
        "#Note--> When applying arthematic operation on two array's. the arrays has to be in same length or size\n",
        "#task--> apply all arthematic operation\n",
        "#what is vector addition\n",
        "#when applying addition operation to the array's of the same length is know as vector addition"
      ],
      "metadata": {
        "id": "pAv9_PfBOYK6"
      },
      "execution_count": null,
      "outputs": []
    },
    {
      "cell_type": "code",
      "source": [
        "#i want know the sum of the element in an array\n",
        "d= np.array([5,6,7])\n",
        "print(d.sum())\n",
        "#i want know the mini element in an array\n",
        "print(d.min())\n",
        "#i want know the max element in an array\n",
        "print(d.max())"
      ],
      "metadata": {
        "colab": {
          "base_uri": "https://localhost:8080/"
        },
        "id": "R6cPl1URPwuf",
        "outputId": "43b2f4c7-af19-4c51-c770-bf64a39e9934"
      },
      "execution_count": null,
      "outputs": [
        {
          "output_type": "stream",
          "name": "stdout",
          "text": [
            "18\n",
            "5\n",
            "7\n"
          ]
        }
      ]
    },
    {
      "cell_type": "markdown",
      "source": [
        "** Array's VS List"
      ],
      "metadata": {
        "id": "cw33XzqvQWMP"
      }
    },
    {
      "cell_type": "code",
      "source": [
        "import numpy as np\n",
        "g= [1,2,3]\n",
        "#create an array above list\n",
        "a = np.array(g)\n",
        "print(a)\n",
        "#adding new item to the list\n",
        "l.append(4)\n",
        "#print(l)\n",
        "#adding the new item to the array\n",
        "d.append(5) # we cannot add the items in an array\n",
        "#how can we add new items in the array\n",
        "#if you want add new item to an array create a new array\n",
        "al = d + np.array([5])\n",
        "print(al)\n",
        "#NOTE--> when you are adding another array to existing array it must be in same size or new array can have 1 element"
      ],
      "metadata": {
        "id": "tindmL6qQca1",
        "collapsed": true
      },
      "execution_count": null,
      "outputs": []
    },
    {
      "cell_type": "code",
      "source": [
        "#find the square root of an below array\n",
        "a2 = np.array([1,2,3,4,5])\n",
        "print(np.sqrt(a2))"
      ],
      "metadata": {
        "colab": {
          "base_uri": "https://localhost:8080/"
        },
        "id": "EhT-IHfqQyxm",
        "outputId": "63b99e67-1f1c-4cb3-b87c-9d4d6ca1994d"
      },
      "execution_count": null,
      "outputs": [
        {
          "output_type": "stream",
          "name": "stdout",
          "text": [
            "[1.         1.41421356 1.73205081 2.         2.23606798]\n"
          ]
        }
      ]
    },
    {
      "cell_type": "code",
      "source": [
        "a = \"hello world\"\n",
        "a.size"
      ],
      "metadata": {
        "colab": {
          "base_uri": "https://localhost:8080/",
          "height": 158
        },
        "id": "eRdootoWZUqX",
        "outputId": "75cd09b6-2a04-413a-e900-3996d7fa8e10"
      },
      "execution_count": null,
      "outputs": [
        {
          "output_type": "error",
          "ename": "AttributeError",
          "evalue": "'str' object has no attribute 'size'",
          "traceback": [
            "\u001b[0;31m---------------------------------------------------------------------------\u001b[0m",
            "\u001b[0;31mAttributeError\u001b[0m                            Traceback (most recent call last)",
            "\u001b[0;32m<ipython-input-41-9a3f6c2f16b2>\u001b[0m in \u001b[0;36m<cell line: 2>\u001b[0;34m()\u001b[0m\n\u001b[1;32m      1\u001b[0m \u001b[0ma\u001b[0m \u001b[0;34m=\u001b[0m \u001b[0;34m\"hello world\"\u001b[0m\u001b[0;34m\u001b[0m\u001b[0;34m\u001b[0m\u001b[0m\n\u001b[0;32m----> 2\u001b[0;31m \u001b[0ma\u001b[0m\u001b[0;34m.\u001b[0m\u001b[0msize\u001b[0m\u001b[0;34m\u001b[0m\u001b[0;34m\u001b[0m\u001b[0m\n\u001b[0m",
            "\u001b[0;31mAttributeError\u001b[0m: 'str' object has no attribute 'size'"
          ]
        }
      ]
    },
    {
      "cell_type": "code",
      "source": [
        "l1 = [\"amma\",\"nanna\",\"akkka\"]\n",
        "l_t = tuple\n",
        "print(l_t)"
      ],
      "metadata": {
        "colab": {
          "base_uri": "https://localhost:8080/"
        },
        "id": "_mw99Nb86slB",
        "outputId": "0a9eb740-b25a-4c9a-fb78-29714ce29a25"
      },
      "execution_count": null,
      "outputs": [
        {
          "output_type": "stream",
          "name": "stdout",
          "text": [
            "<class 'tuple'>\n"
          ]
        }
      ]
    },
    {
      "cell_type": "markdown",
      "source": [
        "**21-11-2024**"
      ],
      "metadata": {
        "id": "iy3vrXZ1267d"
      }
    },
    {
      "cell_type": "markdown",
      "source": [
        "#dot product"
      ],
      "metadata": {
        "id": "KTGWHwwP3SXN"
      }
    },
    {
      "cell_type": "code",
      "source": [
        " #easy with numpy\n",
        " import numpy as np\n",
        " a = np.array([1,2])\n",
        " b = np.array([3,4])\n",
        " print(np.dot(a,b))"
      ],
      "metadata": {
        "colab": {
          "base_uri": "https://localhost:8080/"
        },
        "id": "U66_2LzI2fMG",
        "outputId": "04294c7c-05a4-456d-84a7-6dac72371124"
      },
      "execution_count": null,
      "outputs": [
        {
          "output_type": "stream",
          "name": "stdout",
          "text": [
            "11\n"
          ]
        }
      ]
    },
    {
      "cell_type": "code",
      "source": [
        "a = np.array([1,2])\n",
        "b = np.array([3,4])\n",
        "dot = 0\n",
        "for i in range(len(a)):\n",
        "  dot += a[i]*b[i]\n",
        "print(dot)\n",
        "#vector multiplication of array's and sum of elements of the result\n",
        "#multiple each corresponding element and make sum\n"
      ],
      "metadata": {
        "colab": {
          "base_uri": "https://localhost:8080/"
        },
        "id": "_dyOETa22eFN",
        "outputId": "30aa954a-9e81-4d3a-d0e0-22ab54059d5d"
      },
      "execution_count": null,
      "outputs": [
        {
          "output_type": "stream",
          "name": "stdout",
          "text": [
            "11\n"
          ]
        }
      ]
    },
    {
      "cell_type": "code",
      "source": [
        "#broadcasting method\n",
        "p = np.array([1,2,5])\n",
        "g = np.array([])\n",
        "for i in p:\n",
        "  print(i*2)"
      ],
      "metadata": {
        "colab": {
          "base_uri": "https://localhost:8080/"
        },
        "id": "333JoJqeHbX0",
        "outputId": "cb263b52-1ceb-4c9e-d20d-2a3c4e8d592c"
      },
      "execution_count": null,
      "outputs": [
        {
          "output_type": "stream",
          "name": "stdout",
          "text": [
            "2\n",
            "4\n",
            "10\n"
          ]
        }
      ]
    },
    {
      "cell_type": "code",
      "source": [
        "#manual method\n",
        "c = a*b\n",
        "print(c)\n",
        "print(c.sum())"
      ],
      "metadata": {
        "colab": {
          "base_uri": "https://localhost:8080/"
        },
        "id": "Bq_R813F5UKr",
        "outputId": "44aae5c9-d415-4d90-b245-7dc40e51ec63"
      },
      "execution_count": null,
      "outputs": [
        {
          "output_type": "stream",
          "name": "stdout",
          "text": [
            "[3 8]\n",
            "11\n"
          ]
        }
      ]
    },
    {
      "cell_type": "code",
      "source": [
        "# @ is also similar as dot product\n",
        "f = a@b\n",
        "print(f)"
      ],
      "metadata": {
        "colab": {
          "base_uri": "https://localhost:8080/"
        },
        "id": "9DR0_f816AhL",
        "outputId": "507e1d78-b779-445b-a30a-b816fd99446c"
      },
      "execution_count": null,
      "outputs": [
        {
          "output_type": "stream",
          "name": "stdout",
          "text": [
            "11\n"
          ]
        }
      ]
    },
    {
      "cell_type": "markdown",
      "source": [
        "#speed test b/w array vs list"
      ],
      "metadata": {
        "id": "JG65DijJ6Rb_"
      }
    },
    {
      "cell_type": "code",
      "source": [
        "#import a time calculator to see the variations\n",
        "from timeit import default_timer as timer\n",
        "\n",
        "#create to random array\n",
        "a = np.random.randn(1000)\n",
        "b = np.random.randn(1000)\n",
        "#covert the above array in the form of list\n",
        "c = list(a)\n",
        "d = list (b)\n",
        "t = 1000\n",
        "def dot1():\n",
        "  dot = 0\n",
        "  for i in range(len(c)):\n",
        "    dot += c[i]*d[i]\n",
        "  return dot\n",
        "def dot2():\n",
        "    return np.dot(a,b)\n",
        "# take the timer\n",
        "start = timer()\n",
        "for t in range(t):\n",
        "  dot1()\n",
        "end = timer()\n",
        "t1 = end-start\n",
        "\n",
        "start = timer()\n",
        "for t in range(t):\n",
        "  dot2()\n",
        "end = timer()\n",
        "t2 = end-start\n",
        "\n",
        "print(\"time with list\",t1)\n",
        "print(\"time with array\",t2)\n",
        "\n",
        "print(\"ratio\",t1/t2)"
      ],
      "metadata": {
        "colab": {
          "base_uri": "https://localhost:8080/"
        },
        "id": "Kz-Ef3_v6M7t",
        "outputId": "d3cf333d-b967-405b-c9f0-5771c9f53f1d"
      },
      "execution_count": null,
      "outputs": [
        {
          "output_type": "stream",
          "name": "stdout",
          "text": [
            "time with list 0.24007763300005536\n",
            "time with array 0.0017646100000092702\n",
            "ratio 136.05138415785592\n"
          ]
        }
      ]
    },
    {
      "cell_type": "code",
      "source": [
        "#import a time calculator to see the variations\n",
        "from timeit import default_timer as timer\n",
        "\n",
        "#create to random array\n",
        "a = np.random.randn(1000)\n",
        "b = np.random.randn(1000)\n",
        "#covert the above array in the form of tuple\n",
        "c = tuple(a)\n",
        "d = tuple(b)\n",
        "t = 1000\n",
        "def dot1():\n",
        "  dot = 0\n",
        "  for i in range(len(c)):\n",
        "    dot += c[i]*d[i]\n",
        "  return dot\n",
        "def dot2():\n",
        "    return np.dot(a,b)\n",
        "# take the timer\n",
        "start = timer()\n",
        "for t in range(t):\n",
        "  dot1()\n",
        "end = timer()\n",
        "t1 = end-start\n",
        "\n",
        "start = timer()\n",
        "for t in range(t):\n",
        "  dot2()\n",
        "end = timer()\n",
        "t2 = end-start\n",
        "\n",
        "print(\"time with tuple\",t1)\n",
        "print(\"time with array\",t2)\n",
        "\n",
        "print(\"ratio\",t1/t2)"
      ],
      "metadata": {
        "colab": {
          "base_uri": "https://localhost:8080/"
        },
        "id": "CR99juW5-nSj",
        "outputId": "88485c07-b9e9-4be8-d33a-021eafcee6b7"
      },
      "execution_count": null,
      "outputs": [
        {
          "output_type": "stream",
          "name": "stdout",
          "text": [
            "time with tuple 0.20167522299971097\n",
            "time with array 0.001312581000092905\n",
            "ratio 153.64783048469872\n"
          ]
        }
      ]
    },
    {
      "cell_type": "code",
      "source": [
        "s1 = {1,2,3,4}\n",
        "a = np.array(s1)\n",
        "print(a)  # we cannot convert set into array because set are immutable"
      ],
      "metadata": {
        "colab": {
          "base_uri": "https://localhost:8080/"
        },
        "id": "SEKbDjP0_FBI",
        "outputId": "fe258a9f-b303-452f-c05c-4b3d8799f23d"
      },
      "execution_count": null,
      "outputs": [
        {
          "output_type": "stream",
          "name": "stdout",
          "text": [
            "{1, 2, 3, 4}\n"
          ]
        }
      ]
    },
    {
      "cell_type": "markdown",
      "source": [
        "**mutlidimentional array**"
      ],
      "metadata": {
        "id": "bRlho3-v_nfV"
      }
    },
    {
      "cell_type": "code",
      "source": [
        "a = np.array([[1,2,3],[4,5,6]])\n",
        "print(a)\n",
        "print(a.shape)"
      ],
      "metadata": {
        "colab": {
          "base_uri": "https://localhost:8080/"
        },
        "id": "Z4xV4Xma_vxA",
        "outputId": "ecd6523f-bb30-4fef-ecb4-b6f740a3317e"
      },
      "execution_count": null,
      "outputs": [
        {
          "output_type": "stream",
          "name": "stdout",
          "text": [
            "[[1 2 3]\n",
            " [4 5 6]]\n",
            "(2, 3)\n"
          ]
        }
      ]
    },
    {
      "cell_type": "code",
      "source": [
        "# how can we acess element from the 2d array\n",
        "#print the entire row?\n",
        "#a[row index number]\n",
        "print(a[0])\n",
        "print(a[1])\n",
        "#how to acess the va;ue from particular column\n",
        "# a[row index,column index]\n",
        "print(a[0,0])\n",
        "print(a[1,2])"
      ],
      "metadata": {
        "colab": {
          "base_uri": "https://localhost:8080/"
        },
        "id": "N-t9PP3TAK4q",
        "outputId": "ce09ef19-1124-4432-a9da-d7b0bb1758bd"
      },
      "execution_count": null,
      "outputs": [
        {
          "output_type": "stream",
          "name": "stdout",
          "text": [
            "[1 2 3]\n",
            "[4 5 6]\n",
            "1\n",
            "6\n"
          ]
        }
      ]
    },
    {
      "cell_type": "code",
      "source": [
        "b = np.array([[1,2,3,],[4,5,6],[6,7,8]])\n",
        "print(b)\n",
        "#how can we print the entire values of col?\n",
        "print(b[:,0])"
      ],
      "metadata": {
        "colab": {
          "base_uri": "https://localhost:8080/"
        },
        "id": "o3_3nz7vBz7M",
        "outputId": "6b8fdd99-4c09-4476-d832-5e994f586acc"
      },
      "execution_count": null,
      "outputs": [
        {
          "output_type": "stream",
          "name": "stdout",
          "text": [
            "[[1 2 3]\n",
            " [4 5 6]\n",
            " [6 7 8]]\n",
            "[1 4 6]\n"
          ]
        }
      ]
    },
    {
      "cell_type": "code",
      "source": [
        "# how can i print entire  1st colm\n",
        "b[0]\n",
        "b[0,:]"
      ],
      "metadata": {
        "colab": {
          "base_uri": "https://localhost:8080/"
        },
        "id": "DOi4F6L8CTr8",
        "outputId": "c725662c-dc35-4d92-86f3-9b55a9933184"
      },
      "execution_count": null,
      "outputs": [
        {
          "output_type": "execute_result",
          "data": {
            "text/plain": [
              "array([1, 2, 3])"
            ]
          },
          "metadata": {},
          "execution_count": 25
        }
      ]
    },
    {
      "cell_type": "code",
      "source": [
        "# transpose:- it converts rows into columns and columns into rows\n",
        "a = np.array([[1,2,3],[4,5,6]])\n",
        "print(a)\n",
        "print(a.T)"
      ],
      "metadata": {
        "colab": {
          "base_uri": "https://localhost:8080/"
        },
        "id": "oOqa3CuoC2iL",
        "outputId": "6521c559-f0aa-4e41-f227-cdf99a33835f"
      },
      "execution_count": null,
      "outputs": [
        {
          "output_type": "stream",
          "name": "stdout",
          "text": [
            "[[1 2 3]\n",
            " [4 5 6]]\n",
            "[[1 4]\n",
            " [2 5]\n",
            " [3 6]]\n"
          ]
        }
      ]
    },
    {
      "cell_type": "code",
      "source": [
        "# matrix multiplication\n",
        "a = np.array([[1,2],[3,4]])\n",
        "b = np.array([[3,4],[5,6]])\n",
        "a@b"
      ],
      "metadata": {
        "colab": {
          "base_uri": "https://localhost:8080/"
        },
        "id": "Y1ubxHvvEwRr",
        "outputId": "bd9276fc-59f3-40b4-880d-496450593bf8"
      },
      "execution_count": null,
      "outputs": [
        {
          "output_type": "execute_result",
          "data": {
            "text/plain": [
              "array([[13, 16],\n",
              "       [29, 36]])"
            ]
          },
          "metadata": {},
          "execution_count": 28
        }
      ]
    },
    {
      "cell_type": "code",
      "source": [
        "# find the inverse\n",
        "a = np.array([[1,2],[3,4]])\n",
        "d = np.linalg.inv(a)\n",
        "print(d)"
      ],
      "metadata": {
        "colab": {
          "base_uri": "https://localhost:8080/"
        },
        "id": "hJBsOiOTGDXa",
        "outputId": "69caa84e-758a-46f9-8cd2-8db27a46eb90"
      },
      "execution_count": null,
      "outputs": [
        {
          "output_type": "stream",
          "name": "stdout",
          "text": [
            "[[-2.   1. ]\n",
            " [ 1.5 -0.5]]\n"
          ]
        }
      ]
    },
    {
      "cell_type": "code",
      "source": [
        "#how can i find the diagonal of array a\n",
        "e = np.diag(a)\n",
        "print(e)"
      ],
      "metadata": {
        "colab": {
          "base_uri": "https://localhost:8080/"
        },
        "id": "yXpnIPjbGwV9",
        "outputId": "704b9a48-0523-4d05-8887-3c8d1ce387ab"
      },
      "execution_count": null,
      "outputs": [
        {
          "output_type": "stream",
          "name": "stdout",
          "text": [
            "[1 4]\n"
          ]
        }
      ]
    },
    {
      "cell_type": "code",
      "source": [
        "# diagonal on vector returns the matrix\n",
        "c = np.diag([1,3])\n",
        "print(c)"
      ],
      "metadata": {
        "colab": {
          "base_uri": "https://localhost:8080/"
        },
        "id": "F-6foC7JHBt5",
        "outputId": "7422339b-d827-4a97-cb4c-911ade3a6420"
      },
      "execution_count": null,
      "outputs": [
        {
          "output_type": "stream",
          "name": "stdout",
          "text": [
            "[[1 0]\n",
            " [0 3]]\n"
          ]
        }
      ]
    },
    {
      "cell_type": "markdown",
      "source": [
        "25-11-24"
      ],
      "metadata": {
        "id": "IGY2fw3Yb8Hh"
      }
    },
    {
      "cell_type": "code",
      "source": [
        "  #generating a range of array up to 6\n",
        "import numpy as np\n",
        "a = np.arange(6)\n",
        "  print(a)"
      ],
      "metadata": {
        "colab": {
          "base_uri": "https://localhost:8080/"
        },
        "id": "3LlKnn-kb5cI",
        "outputId": "0a8c946a-4369-44f8-f9cf-19f888af7364"
      },
      "execution_count": null,
      "outputs": [
        {
          "output_type": "stream",
          "name": "stdout",
          "text": [
            "[0 1 2 3 4 5]\n"
          ]
        }
      ]
    },
    {
      "cell_type": "code",
      "source": [
        "#convert the above array into rows and columns\n",
        "b = a.reshape(2,3)\n",
        "print(b)"
      ],
      "metadata": {
        "colab": {
          "base_uri": "https://localhost:8080/"
        },
        "id": "9HYKSLZqc-MD",
        "outputId": "fd590e76-e4a0-4d0a-8370-f8993a3014fe"
      },
      "execution_count": null,
      "outputs": [
        {
          "output_type": "stream",
          "name": "stdout",
          "text": [
            "[[0 1 2]\n",
            " [3 4 5]]\n"
          ]
        }
      ]
    },
    {
      "cell_type": "code",
      "source": [
        "#new axis :- it is used to create new axis\n",
        "#why we are using np.newaxis?\n",
        "#needed when model requires the data to be shaped in a certain manner"
      ],
      "metadata": {
        "id": "rH7FohEAdpHM"
      },
      "execution_count": null,
      "outputs": []
    },
    {
      "cell_type": "code",
      "source": [
        "#newaxis array into rows into columns\n",
        "d = a[np.newaxis,:]\n",
        "print(d)\n",
        "d\n",
        "d.shape"
      ],
      "metadata": {
        "colab": {
          "base_uri": "https://localhost:8080/"
        },
        "id": "daqpMETVd18U",
        "outputId": "74fda89d-3583-4902-b408-7c58287b058a"
      },
      "execution_count": null,
      "outputs": [
        {
          "output_type": "stream",
          "name": "stdout",
          "text": [
            "[[0 1 2 3 4 5]]\n"
          ]
        },
        {
          "output_type": "execute_result",
          "data": {
            "text/plain": [
              "(1, 6)"
            ]
          },
          "metadata": {},
          "execution_count": 90
        }
      ]
    },
    {
      "cell_type": "code",
      "source": [
        "e = a[:,np.newaxis]\n",
        "print(e)\n",
        "e.shape"
      ],
      "metadata": {
        "colab": {
          "base_uri": "https://localhost:8080/"
        },
        "id": "me7TNSh5eFUb",
        "outputId": "929f0c4f-b5a0-45f3-acc2-7ded4143b0f0"
      },
      "execution_count": null,
      "outputs": [
        {
          "output_type": "stream",
          "name": "stdout",
          "text": [
            "[[0]\n",
            " [1]\n",
            " [2]\n",
            " [3]\n",
            " [4]\n",
            " [5]]\n"
          ]
        },
        {
          "output_type": "execute_result",
          "data": {
            "text/plain": [
              "(6, 1)"
            ]
          },
          "metadata": {},
          "execution_count": 11
        }
      ]
    },
    {
      "cell_type": "code",
      "source": [
        "f = a.T\n",
        "print(f.shape)#in transpose we can not applicable on 2D arrays only"
      ],
      "metadata": {
        "colab": {
          "base_uri": "https://localhost:8080/"
        },
        "id": "VDuc3xaUeciC",
        "outputId": "b2889bf2-5f6c-405d-9fec-813e84d3d963"
      },
      "execution_count": null,
      "outputs": [
        {
          "output_type": "stream",
          "name": "stdout",
          "text": [
            "(6,)\n"
          ]
        }
      ]
    },
    {
      "cell_type": "code",
      "source": [
        "a = np.arange(6)\n",
        "b = a.reshape((2,3))\n",
        "print(b)"
      ],
      "metadata": {
        "colab": {
          "base_uri": "https://localhost:8080/"
        },
        "id": "h6XgyFDqfKka",
        "outputId": "d503c3dc-eb46-4962-a9a5-92ef41863fcf"
      },
      "execution_count": null,
      "outputs": [
        {
          "output_type": "stream",
          "name": "stdout",
          "text": [
            "[[0 1 2]\n",
            " [3 4 5]]\n"
          ]
        }
      ]
    },
    {
      "cell_type": "code",
      "source": [
        "a = np.array([[1,2],[3,4]])\n",
        "b = np.array([[5,6]])\n",
        "#combine or concatinate the above 2 array in to 1D\n",
        "c = np.concatenate((a,b),axis=None)\n",
        "print(c)"
      ],
      "metadata": {
        "colab": {
          "base_uri": "https://localhost:8080/"
        },
        "id": "7UNPxKCtgdVs",
        "outputId": "2f83faa9-202a-4bc8-c58d-8cbc96c1ace5"
      },
      "execution_count": null,
      "outputs": [
        {
          "output_type": "stream",
          "name": "stdout",
          "text": [
            "[1 2 3 4 5 6]\n"
          ]
        }
      ]
    },
    {
      "cell_type": "code",
      "source": [
        "#add new rows\n",
        "d = np.concatenate((a,b),axis=0)\n",
        "print(d)"
      ],
      "metadata": {
        "colab": {
          "base_uri": "https://localhost:8080/"
        },
        "id": "QPpg6UubhRx6",
        "outputId": "22d4a1f8-01da-412b-a5b7-edc88297c9d3"
      },
      "execution_count": null,
      "outputs": [
        {
          "output_type": "stream",
          "name": "stdout",
          "text": [
            "[[1 2]\n",
            " [3 4]\n",
            " [5 6]]\n"
          ]
        }
      ]
    },
    {
      "cell_type": "code",
      "source": [
        "print(b)\n",
        "print(b.T)"
      ],
      "metadata": {
        "colab": {
          "base_uri": "https://localhost:8080/"
        },
        "id": "TcrII8K9hlv6",
        "outputId": "684970e4-124b-457d-e93d-537f1db67a87"
      },
      "execution_count": null,
      "outputs": [
        {
          "output_type": "stream",
          "name": "stdout",
          "text": [
            "[[5 6]]\n",
            "[[5]\n",
            " [6]]\n"
          ]
        }
      ]
    },
    {
      "cell_type": "code",
      "source": [
        "#add new column :note that we have to transpose the array b\n",
        "e = np.concatenate((a,b.T),axis=1)\n",
        "print(e)\n",
        "e"
      ],
      "metadata": {
        "colab": {
          "base_uri": "https://localhost:8080/"
        },
        "id": "unYivKarhph6",
        "outputId": "693cbd6b-291f-4778-b422-8cd90a5f43ea"
      },
      "execution_count": null,
      "outputs": [
        {
          "output_type": "stream",
          "name": "stdout",
          "text": [
            "[[1 2 5]\n",
            " [3 4 6]]\n"
          ]
        },
        {
          "output_type": "execute_result",
          "data": {
            "text/plain": [
              "array([[1, 2, 5],\n",
              "       [3, 4, 6]])"
            ]
          },
          "metadata": {},
          "execution_count": 33
        }
      ]
    },
    {
      "cell_type": "code",
      "source": [
        "a = np.array([[1,2],[3,4]])\n",
        "b = np.array([[4,5],[5,6]])\n",
        "h = np.concatenate((a,b),axis=1)\n",
        "print(h)\n",
        "print(h[0,:])"
      ],
      "metadata": {
        "colab": {
          "base_uri": "https://localhost:8080/"
        },
        "id": "jxScuciHiJ_f",
        "outputId": "afb9a102-200a-4c48-d70d-c498df618592"
      },
      "execution_count": null,
      "outputs": [
        {
          "output_type": "stream",
          "name": "stdout",
          "text": [
            "[[1 2 4 5]\n",
            " [3 4 5 6]]\n",
            "[1 2 4 5]\n"
          ]
        }
      ]
    },
    {
      "cell_type": "code",
      "source": [
        "a = np.array([[1,2],[3,4]])\n",
        "b = np.array([[4,5],[5,6]])\n",
        "h = np.concatenate((a,b),axis=0)\n",
        "print(h)"
      ],
      "metadata": {
        "colab": {
          "base_uri": "https://localhost:8080/"
        },
        "id": "3W2wFLXtioCG",
        "outputId": "eef285da-69f5-429d-ab53-a1b4ee1d2d91"
      },
      "execution_count": null,
      "outputs": [
        {
          "output_type": "stream",
          "name": "stdout",
          "text": [
            "[[1 2]\n",
            " [3 4]\n",
            " [4 5]\n",
            " [5 6]]\n"
          ]
        }
      ]
    },
    {
      "cell_type": "code",
      "source": [
        "#how can i print the values of the 1st row\n",
        "print(h[0,:])\n",
        "print([0])"
      ],
      "metadata": {
        "colab": {
          "base_uri": "https://localhost:8080/"
        },
        "id": "xOdh-lK8i0J0",
        "outputId": "cbc0c718-925f-45cc-b4a4-7c1a1687e5f0"
      },
      "execution_count": null,
      "outputs": [
        {
          "output_type": "stream",
          "name": "stdout",
          "text": [
            "[1 2]\n",
            "[0]\n"
          ]
        }
      ]
    },
    {
      "cell_type": "markdown",
      "source": [
        "#Hstack"
      ],
      "metadata": {
        "id": "rURGO8uLjTqi"
      }
    },
    {
      "cell_type": "code",
      "source": [
        "#hstack : stack array in sequence horizontally(column wise)\n",
        "a = np.array([1,2,3,4])\n",
        "b = np.array([5,6,7,8])\n",
        "#c = np.concatenate((a,b),axis=None)\n",
        "c = np.hstack((a,b))\n",
        "print(c)"
      ],
      "metadata": {
        "colab": {
          "base_uri": "https://localhost:8080/"
        },
        "id": "ZfcQZscHjWDJ",
        "outputId": "dba2606e-7b8c-4584-c119-0b8ecb995536"
      },
      "execution_count": null,
      "outputs": [
        {
          "output_type": "stream",
          "name": "stdout",
          "text": [
            "[1 2 3 4 5 6 7 8]\n"
          ]
        }
      ]
    },
    {
      "cell_type": "code",
      "source": [
        "a = np.array([[1,2],[3,4]]) #applying hstack on 2D\n",
        "b = np.array([[4,5],[5,6]])\n",
        "c =np.hstack((a,b))\n",
        "c"
      ],
      "metadata": {
        "colab": {
          "base_uri": "https://localhost:8080/"
        },
        "id": "mwFgP8Q7kQqo",
        "outputId": "6e9558ae-b6f3-4cfb-bbeb-df906f17033b"
      },
      "execution_count": null,
      "outputs": [
        {
          "output_type": "execute_result",
          "data": {
            "text/plain": [
              "array([[1, 2, 4, 5],\n",
              "       [3, 4, 5, 6]])"
            ]
          },
          "metadata": {},
          "execution_count": 42
        }
      ]
    },
    {
      "cell_type": "markdown",
      "source": [
        "#Vstack"
      ],
      "metadata": {
        "id": "bEO_0NLekpVy"
      }
    },
    {
      "cell_type": "code",
      "source": [
        "#vstack:- stack array in sequence vertically(row wise)\n",
        "a = np.array([1,2,3,4])\n",
        "b = np.array([5,6,7,8])\n",
        "c = np.vstack((a,b))\n",
        "c\n"
      ],
      "metadata": {
        "colab": {
          "base_uri": "https://localhost:8080/"
        },
        "id": "xZaiTAFrkdFs",
        "outputId": "dcab0390-40ee-4a3b-9920-3b77b0eb5b63"
      },
      "execution_count": null,
      "outputs": [
        {
          "output_type": "execute_result",
          "data": {
            "text/plain": [
              "array([[1, 2, 3, 4],\n",
              "       [5, 6, 7, 8]])"
            ]
          },
          "metadata": {},
          "execution_count": 45
        }
      ]
    },
    {
      "cell_type": "code",
      "source": [
        "a = np.array([[1,2],[3,4]]) #applying vstack on 2D\n",
        "b = np.array([[4,5],[5,6]])\n",
        "c = np.vstack((a,b))\n",
        "c"
      ],
      "metadata": {
        "colab": {
          "base_uri": "https://localhost:8080/"
        },
        "id": "r3n4JO7Plo9I",
        "outputId": "756119cb-d0cc-4037-da81-2509c73a8510"
      },
      "execution_count": null,
      "outputs": [
        {
          "output_type": "execute_result",
          "data": {
            "text/plain": [
              "array([[1, 2],\n",
              "       [3, 4],\n",
              "       [4, 5],\n",
              "       [5, 6]])"
            ]
          },
          "metadata": {},
          "execution_count": 47
        }
      ]
    },
    {
      "cell_type": "markdown",
      "source": [
        "#Broadcasting"
      ],
      "metadata": {
        "id": "3roApNUImb6-"
      }
    },
    {
      "cell_type": "code",
      "source": [
        "#it is an operation which deal with an different operations of an array"
      ],
      "metadata": {
        "id": "28qUXdf2mfmK"
      },
      "execution_count": null,
      "outputs": []
    },
    {
      "cell_type": "code",
      "source": [
        "x = np.array([[1,2,3],[4,5,6],[6,7,8],[8,9,7]])  #Broadcasting is a powerfull mechanisms that allows the numpy to thik with different arrays of different shapes when performing the arithematic operations\n",
        "y = np.array([[1,2,0]])\n",
        "z = x+y\n",
        "print(z)"
      ],
      "metadata": {
        "colab": {
          "base_uri": "https://localhost:8080/"
        },
        "id": "aejnUMTymTIa",
        "outputId": "a54f8cff-7942-488b-b347-29868b39d850"
      },
      "execution_count": null,
      "outputs": [
        {
          "output_type": "stream",
          "name": "stdout",
          "text": [
            "[[ 2  4  3]\n",
            " [ 5  7  6]\n",
            " [ 7  9  8]\n",
            " [ 9 11  7]]\n"
          ]
        }
      ]
    },
    {
      "cell_type": "markdown",
      "source": [
        "#copying"
      ],
      "metadata": {
        "id": "WsyY5w-ln5Yt"
      }
    },
    {
      "cell_type": "code",
      "source": [
        "a = np.array([1,2,3,4])\n",
        "b = a   #only copies the reference\n",
        "b[0] = 42\n",
        "print(b)"
      ],
      "metadata": {
        "colab": {
          "base_uri": "https://localhost:8080/"
        },
        "id": "YYri7kuQnxqu",
        "outputId": "3eac6181-272b-4029-df64-7335a2fb0b02"
      },
      "execution_count": null,
      "outputs": [
        {
          "output_type": "stream",
          "name": "stdout",
          "text": [
            "[1 2 3 4]\n",
            "[42  2  3  4]\n"
          ]
        }
      ]
    },
    {
      "cell_type": "code",
      "source": [
        "a = np.array([1,2,3])\n",
        "b = a.copy()\n",
        "b[0] = 7\n",
        "print(a)\n",
        "print(b)\n",
        "#using  copy() if you make changes in any array the new array but the old array doesn't changes"
      ],
      "metadata": {
        "colab": {
          "base_uri": "https://localhost:8080/"
        },
        "id": "G0_9Fam4opQw",
        "outputId": "9b671208-73cc-4a24-edb2-64ec24855e75"
      },
      "execution_count": null,
      "outputs": [
        {
          "output_type": "stream",
          "name": "stdout",
          "text": [
            "[1 2 3]\n",
            "[7 2 3]\n"
          ]
        }
      ]
    },
    {
      "cell_type": "markdown",
      "source": [
        "#Data types"
      ],
      "metadata": {
        "id": "D87ksQxspauJ"
      }
    },
    {
      "cell_type": "code",
      "source": [
        "a= np.dtype()"
      ],
      "metadata": {
        "colab": {
          "base_uri": "https://localhost:8080/",
          "height": 141
        },
        "id": "50xfhfUfCgH-",
        "outputId": "ed0b3836-b715-4364-cffe-d56469be5a18"
      },
      "execution_count": null,
      "outputs": [
        {
          "output_type": "error",
          "ename": "TypeError",
          "evalue": "Cannot construct a dtype from an array",
          "traceback": [
            "\u001b[0;31m---------------------------------------------------------------------------\u001b[0m",
            "\u001b[0;31mTypeError\u001b[0m                                 Traceback (most recent call last)",
            "\u001b[0;32m<ipython-input-94-b4fc8ffd39d4>\u001b[0m in \u001b[0;36m<cell line: 1>\u001b[0;34m()\u001b[0m\n\u001b[0;32m----> 1\u001b[0;31m \u001b[0ma\u001b[0m\u001b[0;34m=\u001b[0m \u001b[0mnp\u001b[0m\u001b[0;34m.\u001b[0m\u001b[0mdtype\u001b[0m\u001b[0;34m(\u001b[0m\u001b[0mb\u001b[0m\u001b[0;34m)\u001b[0m\u001b[0;34m\u001b[0m\u001b[0;34m\u001b[0m\u001b[0m\n\u001b[0m",
            "\u001b[0;31mTypeError\u001b[0m: Cannot construct a dtype from an array"
          ]
        }
      ]
    },
    {
      "cell_type": "code",
      "source": [
        "#how can we find the datatpe of an array means\n",
        "a = np.array([1,2,3],dtype=np.int32)\n",
        "a.dtype"
      ],
      "metadata": {
        "colab": {
          "base_uri": "https://localhost:8080/"
        },
        "id": "iaQXnmpcpggf",
        "outputId": "fe26a476-0b4a-4d91-e972-9e53b901ccbf"
      },
      "execution_count": null,
      "outputs": [
        {
          "output_type": "execute_result",
          "data": {
            "text/plain": [
              "dtype('int32')"
            ]
          },
          "metadata": {},
          "execution_count": 62
        }
      ]
    },
    {
      "cell_type": "code",
      "source": [
        "b = np.array([1.0,3.5],dtype=np.float32)\n",
        "b.dtype"
      ],
      "metadata": {
        "colab": {
          "base_uri": "https://localhost:8080/"
        },
        "id": "JU0VzNLtqFly",
        "outputId": "84dffa9e-884e-4346-be7f-7099c4e85a54"
      },
      "execution_count": null,
      "outputs": [
        {
          "output_type": "execute_result",
          "data": {
            "text/plain": [
              "dtype('float32')"
            ]
          },
          "metadata": {},
          "execution_count": 63
        }
      ]
    },
    {
      "cell_type": "markdown",
      "source": [
        "#Generating array's"
      ],
      "metadata": {
        "id": "sGgVKIEVqXEL"
      }
    },
    {
      "cell_type": "code",
      "source": [
        "#generate an array as zeros which is having 2 rows and 3 columns\n",
        "a = np.zeros((2,3))\n",
        "a"
      ],
      "metadata": {
        "colab": {
          "base_uri": "https://localhost:8080/"
        },
        "id": "h8FwgYl7qUFX",
        "outputId": "ddfd2724-e190-4d80-d913-dee1ff4b68d1"
      },
      "execution_count": null,
      "outputs": [
        {
          "output_type": "execute_result",
          "data": {
            "text/plain": [
              "array([[0., 0., 0.],\n",
              "       [0., 0., 0.]])"
            ]
          },
          "metadata": {},
          "execution_count": 64
        }
      ]
    },
    {
      "cell_type": "code",
      "source": [
        "b = np.ones((2,2))\n",
        "b"
      ],
      "metadata": {
        "colab": {
          "base_uri": "https://localhost:8080/"
        },
        "id": "1vrUBl3pqq-t",
        "outputId": "c2c62dbf-98f0-4da7-e5b9-d17ae669f1f9"
      },
      "execution_count": null,
      "outputs": [
        {
          "output_type": "execute_result",
          "data": {
            "text/plain": [
              "array([[1., 1.],\n",
              "       [1., 1.]])"
            ]
          },
          "metadata": {},
          "execution_count": 66
        }
      ]
    },
    {
      "cell_type": "code",
      "source": [
        "#generate an array of specific value with specific rows and columns\n",
        "c = np.full((3,4),7)\n",
        "print(c)"
      ],
      "metadata": {
        "colab": {
          "base_uri": "https://localhost:8080/"
        },
        "id": "uX3e5p-Xqzyv",
        "outputId": "682863bb-2112-4ca1-8876-0461a4b0f192"
      },
      "execution_count": null,
      "outputs": [
        {
          "output_type": "stream",
          "name": "stdout",
          "text": [
            "[[7 7 7 7]\n",
            " [7 7 7 7]\n",
            " [7 7 7 7]]\n"
          ]
        }
      ]
    },
    {
      "cell_type": "code",
      "source": [
        "c = np.full((3,3),5)\n",
        "print(c)"
      ],
      "metadata": {
        "colab": {
          "base_uri": "https://localhost:8080/"
        },
        "id": "wpwgb57BDRVK",
        "outputId": "2b0e9bed-c61f-42ba-d1fa-1fe97da27a3d"
      },
      "execution_count": null,
      "outputs": [
        {
          "output_type": "stream",
          "name": "stdout",
          "text": [
            "[[5 5 5]\n",
            " [5 5 5]\n",
            " [5 5 5]]\n"
          ]
        }
      ]
    },
    {
      "cell_type": "code",
      "source": [
        "f = np.ones((6,6))\n",
        "f[1:-1,1:-1] = 0\n",
        "print(f)"
      ],
      "metadata": {
        "colab": {
          "base_uri": "https://localhost:8080/"
        },
        "id": "lqRVp84JDoJx",
        "outputId": "598445cf-cd39-40f2-fa8e-3614a27f2ccd"
      },
      "execution_count": null,
      "outputs": [
        {
          "output_type": "stream",
          "name": "stdout",
          "text": [
            "[[1. 1. 1. 1. 1. 1.]\n",
            " [1. 0. 0. 0. 0. 1.]\n",
            " [1. 0. 0. 0. 0. 1.]\n",
            " [1. 0. 0. 0. 0. 1.]\n",
            " [1. 0. 0. 0. 0. 1.]\n",
            " [1. 1. 1. 1. 1. 1.]]\n"
          ]
        }
      ]
    },
    {
      "cell_type": "code",
      "source": [
        "#generate an identity matrix\n",
        "d = np.eye(4)\n",
        "print(d)"
      ],
      "metadata": {
        "colab": {
          "base_uri": "https://localhost:8080/"
        },
        "id": "CjCbqy0IrLY_",
        "outputId": "7aac1009-2b15-43c5-e993-42dc47323b9f"
      },
      "execution_count": null,
      "outputs": [
        {
          "output_type": "stream",
          "name": "stdout",
          "text": [
            "[[1. 0. 0. 0.]\n",
            " [0. 1. 0. 0.]\n",
            " [0. 0. 1. 0.]\n",
            " [0. 0. 0. 1.]]\n"
          ]
        }
      ]
    },
    {
      "cell_type": "code",
      "source": [
        "## generate a range of numbers 10\n",
        "a = np.arange(10)\n",
        "print(a)"
      ],
      "metadata": {
        "colab": {
          "base_uri": "https://localhost:8080/"
        },
        "id": "DQi3PyJZrXM3",
        "outputId": "59a2466d-1147-43e0-9514-a313417228a4"
      },
      "execution_count": null,
      "outputs": [
        {
          "output_type": "stream",
          "name": "stdout",
          "text": [
            "[0 1 2 3 4 5 6 7 8 9]\n"
          ]
        }
      ]
    },
    {
      "cell_type": "code",
      "source": [
        "###linspace splits the data into specific partsequally\n",
        "#linspace(start,end,no of partitions)\n",
        "#note:-- end will not changed\n",
        "e = np.linspace(0,10,6)\n",
        "print(e)"
      ],
      "metadata": {
        "colab": {
          "base_uri": "https://localhost:8080/"
        },
        "id": "fSRpLhJmrr4B",
        "outputId": "9c15bd62-1b61-47db-c9ad-698f8f989cae"
      },
      "execution_count": null,
      "outputs": [
        {
          "output_type": "stream",
          "name": "stdout",
          "text": [
            "[ 0.  2.  4.  6.  8. 10.]\n"
          ]
        }
      ]
    },
    {
      "cell_type": "code",
      "source": [
        "#random numbers\n",
        "#linear algebra\n",
        "#solving the linear system\n",
        "#load a csv file numpy"
      ],
      "metadata": {
        "id": "I3CBnYWQtbLZ"
      },
      "execution_count": null,
      "outputs": []
    },
    {
      "cell_type": "code",
      "source": [
        "a = int(input(\"enter any number n \"))\n",
        "factorial=[]\n",
        "for i in range(1,a+1):\n",
        " if i%a == 0:\n",
        "  print(i)\n",
        " i += 1\n",
        " factorial.append(i)\n",
        "else:\n",
        "  print(1)\n"
      ],
      "metadata": {
        "colab": {
          "base_uri": "https://localhost:8080/"
        },
        "id": "7t4U6BS9w1tf",
        "outputId": "f8e19d13-bc8b-4012-ecbf-2f21d98e90d2"
      },
      "execution_count": null,
      "outputs": [
        {
          "output_type": "stream",
          "name": "stdout",
          "text": [
            "enter any number n 8\n",
            "8\n",
            "1\n"
          ]
        }
      ]
    },
    {
      "cell_type": "code",
      "source": [],
      "metadata": {
        "id": "KEtDCM99qoce"
      },
      "execution_count": null,
      "outputs": []
    }
  ]
}